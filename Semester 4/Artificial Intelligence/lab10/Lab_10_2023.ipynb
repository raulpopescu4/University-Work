{
 "cells": [
  {
   "attachments": {},
   "cell_type": "markdown",
   "metadata": {},
   "source": [
    "# Lab 10\n",
    "\n",
    "## I. Hill Climbing\n",
    "\n",
    "\n",
    "The Hill Climbing Method is a simple optimization algorithm that tries to find the optimal solution to a problem by iteratively improving the current solution. It is a local search algorithm, which means that it only considers the solutions that are in the neighborhood of the current solution.\n",
    "\n",
    "Here's how the Hill Climbing Method works:\n",
    "\n",
    "1. Start with an initial state -- a candidate to the solution of the problem.\n",
    "\n",
    "2. Evaluate the current state to determine its quality or fitness.\n",
    "\n",
    "3. Generate a set of neighboring states by making small modifications to the current one.\n",
    "\n",
    "3. Evaluate the fitness of each neighboring state.\n",
    "\n",
    "4. Select the best neighboring state and make it the new current one.\n",
    "\n",
    "5. Repeat steps 3 to 5 until no further improvement can be made or a predefined stopping criterion is met.\n",
    "\n",
    "One of the main advantages of the Hill Climbing Method is its simplicity and ease of implementation. \n",
    "\n",
    "Consider the Bukin funcion N6, from the basic optimisation benchmark set:\n",
    "\n",
    "$$f(x,y) =  100 \\sqrt{|y-0.01 x^2|}+ 0.01 |x+10|.$$\n",
    "\n",
    "For $-15 \\leqq x \\leqq -5$ and $-3 \\leqq y \\leqq 3$ we have a minimum point $f(-10, 1) = 0$.\n",
    "\n",
    "\n",
    "*Ex. 1:*\n",
    "\n",
    "Implement a function $f$ for this function and represent it graphic using matplotlib."
   ]
  },
  {
   "attachments": {},
   "cell_type": "markdown",
   "metadata": {},
   "source": [
    "*Ex. 2:* \n",
    "\n",
    "Write a Hill Climbing algorithm that finds this functions minimum.\n",
    "\n",
    "Hints: \n",
    "\n",
    "define a state, define a neighbour, choose a proper stop criteria before implementing the algorithm."
   ]
  },
  {
   "attachments": {},
   "cell_type": "markdown",
   "metadata": {},
   "source": [
    "*Ex. 3:* for 1 point \n",
    "\n",
    "Implement a hill climbing algorithm for the knapsack problem. \n",
    "\n",
    "Hints:\n",
    "For n elements:\n",
    "\n",
    "we begin with an empty string of n zeros.\n",
    "\n",
    "a neighbour is constructed by switching of zero into an one at a position in the array\n",
    "\n",
    "Does it find the optimum? \n"
   ]
  },
  {
   "attachments": {},
   "cell_type": "markdown",
   "metadata": {},
   "source": [
    "\n",
    "*Ex. 4:* for 1 point\n",
    "\n",
    "Improve it to increase the chances of finding the solution.  "
   ]
  }
 ],
 "metadata": {
  "language_info": {
   "name": "python"
  },
  "orig_nbformat": 4
 },
 "nbformat": 4,
 "nbformat_minor": 2
}
